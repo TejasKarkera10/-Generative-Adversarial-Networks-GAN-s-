{
 "cells": [
  {
   "cell_type": "code",
   "execution_count": 1,
   "id": "turkish-twins",
   "metadata": {},
   "outputs": [],
   "source": [
    "# Importing Essessntials \n",
    "\n",
    "import numpy as np\n",
    "import matplotlib.pyplot as plt \n"
   ]
  },
  {
   "cell_type": "code",
   "execution_count": 10,
   "id": "illegal-feeding",
   "metadata": {},
   "outputs": [],
   "source": [
    "# Generating Random Marks \n",
    "\n",
    "Physics_std_deviations = 10\n",
    "Physics_mean = 80\n",
    "\n",
    "PhysicsMarks = np.round(np.random.randn(500)*Physics_std_deviations + Physics_mean)\n",
    "\n",
    "Maths_std_deviations = 10\n",
    "Maths_mean = 40\n",
    "\n",
    "MathsMarks = np.round(np.random.randn(500)*Maths_std_deviations + Maths_mean)\n"
   ]
  },
  {
   "cell_type": "code",
   "execution_count": 11,
   "id": "final-building",
   "metadata": {},
   "outputs": [
    {
     "name": "stdout",
     "output_type": "stream",
     "text": [
      "[52. 46. 28. 29. 50. 34. 42. 64. 50. 30. 49. 29. 42. 44. 41. 32. 45. 43.\n",
      " 44. 36. 37. 31. 48. 50. 27. 43. 30. 52. 44. 35. 47. 56. 56. 37. 54. 29.\n",
      " 38. 18. 52. 21. 44. 50. 39. 41. 39. 48. 37. 41. 29. 47. 49. 51. 34. 45.\n",
      " 64. 58. 28. 44. 44. 38. 41. 26. 35. 29. 34. 51. 54. 12. 34. 42. 22. 42.\n",
      " 36. 52. 49. 40. 52. 39. 27. 42. 38. 37. 45. 40. 40. 33. 50. 48. 32. 36.\n",
      " 47. 39. 30. 39. 55. 27. 40. 44. 69. 30. 39. 35. 40. 32. 41. 15. 47. 32.\n",
      " 46. 37. 32. 48. 29. 51. 33. 42. 39. 44. 29. 55. 28. 30. 38. 47. 46. 53.\n",
      " 35. 36. 29. 43. 34. 40. 38. 48. 39. 38. 34. 44. 47. 39. 60. 39. 53. 36.\n",
      " 42. 31. 54. 49. 31. 36. 38. 31. 50. 44. 54. 44. 31. 35. 29. 35. 34. 51.\n",
      " 22. 50. 32. 55. 29. 45. 35. 20. 53. 60. 46. 63. 37. 45. 41. 30. 19. 20.\n",
      " 52. 57. 49. 30. 43. 46. 49. 47. 34. 43. 37. 44. 33. 40. 27. 27. 51. 32.\n",
      " 37. 45. 52. 28. 29. 38. 47. 61. 29. 29. 49. 30. 34. 39. 47. 42. 30. 43.\n",
      " 40. 49. 46. 44. 32. 27. 36. 26. 53. 30. 53. 28. 46. 39. 40. 53. 25. 26.\n",
      " 43. 33. 37. 44. 41. 40. 46. 50. 22. 35. 52. 53. 30. 41. 41. 30. 38. 58.\n",
      " 52. 40. 44. 53. 37. 40. 32. 40. 17. 55. 45. 51. 35. 28. 33. 53. 55. 33.\n",
      " 37. 59. 54. 51. 46. 29. 41. 58. 54. 29. 48. 53. 49. 15. 52. 30. 41. 46.\n",
      " 47. 30. 54. 28. 55. 39. 66. 53. 48. 43. 31. 38. 32. 45. 43. 36. 49. 35.\n",
      " 55. 46. 42. 36. 42. 45. 37. 36. 31. 26. 23. 51. 38. 53. 46. 33. 17. 28.\n",
      " 34. 48. 37. 50. 34. 55. 29. 50. 44. 41. 27. 40. 37. 42. 27. 59. 28. 51.\n",
      " 40. 38. 20. 50. 43. 37. 45. 42. 34. 43. 33. 29. 37. 46. 24. 61. 34. 36.\n",
      " 39. 33. 27. 41. 44. 54. 52. 36. 62. 41. 56. 36. 30. 60. 54. 33. 31. 53.\n",
      " 32. 43. 39. 58. 46. 43. 48. 50. 31. 47. 41. 55. 19. 32. 39. 48. 42. 47.\n",
      " 20. 23. 56. 42. 63. 33. 31. 38. 42. 39. 29. 52. 66. 31. 32. 41. 54. 55.\n",
      " 50. 43. 45. 49. 42. 61. 33. 37. 40. 31. 47. 54. 45. 46. 45. 40. 38. 46.\n",
      " 55. 39. 38. 47. 42. 41. 32. 50. 26. 36. 33. 34. 38. 33. 18. 32. 45. 33.\n",
      " 48. 33. 57. 33. 37. 38. 32. 39. 45. 26. 21. 55. 36. 50. 44. 42. 36. 42.\n",
      " 35. 46. 39. 46. 52. 45. 32. 32. 33. 28. 35. 54. 35. 60. 37. 39. 38. 24.\n",
      " 40. 30. 27. 33. 58. 50. 43. 58. 24. 54. 34. 31. 51. 47.]\n"
     ]
    }
   ],
   "source": [
    "print(MathsMarks)"
   ]
  },
  {
   "cell_type": "code",
   "execution_count": 16,
   "id": "elect-agenda",
   "metadata": {},
   "outputs": [
    {
     "data": {
      "image/png": "[encoded data removed]",
      "text/plain": [
       "<Figure size 432x288 with 1 Axes>"
      ]
     },
     "metadata": {
      "needs_background": "light"
     },
     "output_type": "display_data"
    }
   ],
   "source": [
    "# Visualisations of Normal Distributions \n",
    "\n",
    "plt.hist(PhysicsMarks)\n",
    "plt.hist(MathsMarks)\n",
    "plt.show()"
   ]
  },
  {
   "cell_type": "code",
   "execution_count": null,
   "id": "impossible-sperm",
   "metadata": {},
   "outputs": [],
   "source": []
  }
 ],
 "metadata": {
  "kernelspec": {
   "display_name": "Python 3",
   "language": "python",
   "name": "python3"
  },
  "language_info": {
   "codemirror_mode": {
    "name": "ipython",
    "version": 3
   },
   "file_extension": ".py",
   "mimetype": "text/x-python",
   "name": "python",
   "nbconvert_exporter": "python",
   "pygments_lexer": "ipython3",
   "version": "3.5.4"
  }
 },
 "nbformat": 4,
 "nbformat_minor": 5
}
